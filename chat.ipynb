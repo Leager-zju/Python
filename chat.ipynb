{
 "cells": [
  {
   "cell_type": "code",
   "execution_count": null,
   "metadata": {},
   "outputs": [],
   "source": [
    "import sqlParser\n",
    "import os\n",
    "from openai import OpenAI\n",
    "from dotenv import load_dotenv"
   ]
  },
  {
   "cell_type": "code",
   "execution_count": 3,
   "metadata": {},
   "outputs": [],
   "source": [
    "with open(\"sample.sql\", \"r\", encoding=\"utf8\") as sql_file:\n",
    "        table_info = sqlParser.parse_sql(sql_file.read().strip())\n",
    "        sqlParser.generate_JSON(table_info)"
   ]
  },
  {
   "cell_type": "code",
   "execution_count": 6,
   "metadata": {},
   "outputs": [],
   "source": [
    "Client = OpenAI(\n",
    "    # This is the default and can be omitted\n",
    "    api_key=os.environ.get(\"OPENAI_API_KEY\"),\n",
    "    base_url=os.environ.get(\"OPENAI_API_BASE\")\n",
    ")\n",
    "\n",
    "def get_completion(prompt, model=\"gpt-3.5-turbo\"):\n",
    "    message = [\n",
    "        {\n",
    "            \"role\": \"system\",\n",
    "            \"content\": 'For a given ER design text or image, use json to describe entities, attributes, and relationships between entities (one_to-one, many_to_one, or many_to_many). For example: {\"ERD\": [{\"name\": \"Person\", \"attributes\": [\"id\", \"name\"], \"relationships\": []}, {\"name\": \"Passport\", \"attributes\": [\"id\", \"number\", \"person_id\"], \"relationships\": [{\"related_entity\": \"Person\", \"type\": \"one_to_one\"}]}]}'\n",
    "        },\n",
    "        {\n",
    "            \"role\": \"user\",\n",
    "            \"content\": prompt,\n",
    "        }\n",
    "    ]\n",
    "\n",
    "    response = Client.chat.completions.create(\n",
    "        messages=message,\n",
    "        model=model,\n",
    "    )\n",
    "\n",
    "    return response.choices[0].message.content"
   ]
  },
  {
   "cell_type": "code",
   "execution_count": null,
   "metadata": {},
   "outputs": [],
   "source": [
    "prompt = \"\"\"\n",
    "- 学生(Student)\n",
    "    - 属性: 学号(ID)、姓名(Name)、年龄(Age)\n",
    "- 课程(Course)\n",
    "    - 属性: 课程编号(CourseID)、课程名称(CourseName)\n",
    "- 选课(Enrollment)\n",
    "    - 属性: 成绩(Grade)\n",
    "    - 外键: 学号(StudentID)、课程编号(CourseID)\n",
    "\"\"\"\n",
    "out = get_completion(prompt)\n",
    "print(out)"
   ]
  },
  {
   "cell_type": "code",
   "execution_count": 8,
   "metadata": {},
   "outputs": [],
   "source": [
    "import json\n",
    "data = json.loads(out)\n",
    "with open('ERDFromChat.json', 'w+') as file:\n",
    "        json.dump(data, file)"
   ]
  },
  {
   "cell_type": "code",
   "execution_count": null,
   "metadata": {},
   "outputs": [],
   "source": [
    "# TODO: Compare ERDFromChat with ERDFromPython \n",
    "   \n",
    "with open('ERDFromChat.json', 'r') as f:  \n",
    "    chat_data = json.load(f)  \n",
    "\n",
    "with open('ERDFromPython.json', 'r') as f:  \n",
    "    python_data = json.load(f)"
   ]
  },
  {
   "cell_type": "markdown",
   "metadata": {},
   "source": []
  }
 ],
 "metadata": {
  "kernelspec": {
   "display_name": ".venv",
   "language": "python",
   "name": "python3"
  },
  "language_info": {
   "codemirror_mode": {
    "name": "ipython",
    "version": 3
   },
   "file_extension": ".py",
   "mimetype": "text/x-python",
   "name": "python",
   "nbconvert_exporter": "python",
   "pygments_lexer": "ipython3",
   "version": "3.10.12"
  }
 },
 "nbformat": 4,
 "nbformat_minor": 2
}
