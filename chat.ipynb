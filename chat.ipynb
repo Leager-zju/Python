{
 "cells": [
  {
   "cell_type": "code",
   "execution_count": 2,
   "metadata": {},
   "outputs": [],
   "source": [
    "import sqlParser\n",
    "import os\n",
    "from openai import OpenAI\n",
    "from dotenv import load_dotenv"
   ]
  },
  {
   "cell_type": "code",
   "execution_count": 3,
   "metadata": {},
   "outputs": [],
   "source": [
    "with open(\"sample.sql\", \"r\", encoding=\"utf8\") as sql_file:\n",
    "        table_info = sqlParser.parse_sql(sql_file.read().strip())\n",
    "        sqlParser.generate_er_xml(table_info)"
   ]
  },
  {
   "cell_type": "code",
   "execution_count": 15,
   "metadata": {},
   "outputs": [],
   "source": [
    "Client = OpenAI(\n",
    "    # This is the default and can be omitted\n",
    "    api_key=os.environ.get(\"OPENAI_API_KEY\"),\n",
    "    base_url=os.environ.get(\"OPENAI_API_BASE\")\n",
    ")\n",
    "\n",
    "def get_completion(prompt, model=\"gpt-3.5-turbo\"):\n",
    "    message = [\n",
    "        {\n",
    "            \"role\": \"system\",\n",
    "            \"content\": 'For a given ER design text or image, use json to describe entities, attributes, and relationships between entities (one-to-one, one-to-many, or many-to-many). For example: {\"ERD\": [{\"entity\": \"Entity1\",\"attributes\": [\"Attr1\", \"Attr2\"],\"relationship\":[{\"type\": \"one-to-one\",\"entity\": \"Entity2\"}]},{\"entity\": \"Entity2\",\"attributes\": [\"Attr3\", \"Attr4\"],\"relationship\": []}]}'\n",
    "        },\n",
    "        {\n",
    "            \"role\": \"user\",\n",
    "            \"content\": prompt,\n",
    "        }\n",
    "    ]\n",
    "\n",
    "    response = Client.chat.completions.create(\n",
    "        messages=message,\n",
    "        model=model,\n",
    "    )\n",
    "\n",
    "    return response.choices[0].message.content"
   ]
  },
  {
   "cell_type": "code",
   "execution_count": 16,
   "metadata": {},
   "outputs": [
    {
     "name": "stdout",
     "output_type": "stream",
     "text": [
      "{\"ERD\": [{\"entity\": \"Student\",\"attributes\": [\"ID\", \"Name\", \"Age\"],\"relationship\":[{\"type\": \"one-to-many\",\"entity\": \"Enrollment\"},{\"type\": \"one-to-one\",\"entity\": \"Course\"}]},{\"entity\": \"Course\",\"attributes\": [\"CourseID\", \"CourseName\"],\"relationship\":[{\"type\": \"one-to-many\",\"entity\": \"Enrollment\"}]},{\"entity\": \"Enrollment\",\"attributes\": [\"Grade\"],\"relationship\":[{\"type\": \"many-to-one\",\"entity\": \"Student\"},{\"type\": \"many-to-one\",\"entity\": \"Course\"}]}]}\n"
     ]
    }
   ],
   "source": [
    "prompt = \"\"\"\n",
    "- 学生(Student)\n",
    "    - 属性: 学号(ID)、姓名(Name)、年龄(Age)\n",
    "- 课程(Course)\n",
    "    - 属性: 课程编号(CourseID)、课程名称(CourseName)\n",
    "- 选课(Enrollment)\n",
    "    - 属性: 成绩(Grade)\n",
    "    - 外键: 学号(StudentID)、课程编号(CourseID)\n",
    "\"\"\"\n",
    "out = get_completion(prompt)\n",
    "print(out)"
   ]
  }
 ],
 "metadata": {
  "kernelspec": {
   "display_name": ".venv",
   "language": "python",
   "name": "python3"
  },
  "language_info": {
   "codemirror_mode": {
    "name": "ipython",
    "version": 3
   },
   "file_extension": ".py",
   "mimetype": "text/x-python",
   "name": "python",
   "nbconvert_exporter": "python",
   "pygments_lexer": "ipython3",
   "version": "3.10.12"
  }
 },
 "nbformat": 4,
 "nbformat_minor": 2
}
